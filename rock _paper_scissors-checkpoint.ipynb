{
 "cells": [
  {
   "cell_type": "markdown",
   "id": "34378036",
   "metadata": {},
   "source": [
    "# ROCK PAPER SCISSORS GAME"
   ]
  },
  {
   "cell_type": "code",
   "execution_count": 5,
   "id": "a32c2341",
   "metadata": {},
   "outputs": [],
   "source": [
    "import random"
   ]
  },
  {
   "cell_type": "code",
   "execution_count": null,
   "id": "73719482",
   "metadata": {},
   "outputs": [
    {
     "name": "stdout",
     "output_type": "stream",
     "text": [
      "Enter rock/paper/scissors or Q to quit: rock\n",
      "Computer picked:scissors\n",
      "You Won 🤩\n"
     ]
    }
   ],
   "source": [
    "user_score=0\n",
    "computer_score=0\n",
    "choices = ['rock','paper','scissors']\n",
    "while True:\n",
    "    user_pick = input('Enter rock/paper/scissors or Q to quit: ').lower()\n",
    "    if user_pick == 'q':\n",
    "        break\n",
    "    if user_pick not in choices:\n",
    "        continue\n",
    "    random_number = random.randint(0,2)\n",
    "    computer_pick = choices[random_number]\n",
    "    print(f'Computer picked:{computer_pick}')\n",
    "    if user_pick ==\"rock\" and computer_pick ==\"scissors\":\n",
    "        print('You Won 🤩')\n",
    "        user_score+=1\n",
    "    elif user_pick ==\"paper\" and computer_pick ==\"rock\":\n",
    "        print('You Won 🤩 ')\n",
    "        user_score+=1\n",
    "    elif user_pick ==\"scissors\" and computer_pick ==\"paper\":\n",
    "        print('You Won 🤩')\n",
    "        user_score+=1\n",
    "    elif user_pick == computer_pick:\n",
    "        print('You got same')\n",
    "    else:\n",
    "        print('You Lost 🤭')\n",
    "        computer_score+=1\n",
    "print(f'You Won {user_score} time')\n",
    "print(f'Computer Won {computer_score} times')\n",
    "print('GoodBye 😈')"
   ]
  },
  {
   "cell_type": "code",
   "execution_count": null,
   "id": "b67c1227",
   "metadata": {},
   "outputs": [],
   "source": []
  }
 ],
 "metadata": {
  "kernelspec": {
   "display_name": "Python 3 (ipykernel)",
   "language": "python",
   "name": "python3"
  },
  "language_info": {
   "codemirror_mode": {
    "name": "ipython",
    "version": 3
   },
   "file_extension": ".py",
   "mimetype": "text/x-python",
   "name": "python",
   "nbconvert_exporter": "python",
   "pygments_lexer": "ipython3",
   "version": "3.9.7"
  }
 },
 "nbformat": 4,
 "nbformat_minor": 5
}
